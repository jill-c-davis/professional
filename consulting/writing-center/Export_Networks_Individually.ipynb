{
 "cells": [
  {
   "cell_type": "markdown",
   "id": "b06cdd28",
   "metadata": {},
   "source": [
    "### Step 1: Import Dependencies\n",
    "- The application relies on two imported modules:\n",
    "  - `requests`: To send a GET request to the API.\n",
    "  - `csv`: To export the results to a csv file\n",
    "  - `pandas`: For documentation purposes, I am using pandas to convert the initial csv into a data frame"
   ]
  },
  {
   "cell_type": "code",
   "execution_count": 26,
   "id": "c4f08573",
   "metadata": {},
   "outputs": [],
   "source": [
    "import requests\n",
    "import csv\n",
    "import pandas as pd"
   ]
  },
  {
   "cell_type": "markdown",
   "id": "1f9b8656",
   "metadata": {},
   "source": [
    "### Step 2: Export Organization IDs to a CSV based on the Organization's Name\n",
    "- The function `export_org_id_to_csv` accepts two arguments:\n",
    "  - `api_url_1`: The initial URL to make the API request.\n",
    "  - `filename`: The name of the output CSV file, with a default value of `\"organization_ids.csv\"`.\n",
    "- Example value for `api_url_1`: \"https://cmsmanapi.anthem.com/fhir/cms_mandate/mcd/Organization?name=Cottage%20Hospital\""
   ]
  },
  {
   "cell_type": "code",
   "execution_count": 27,
   "id": "4c44b1f2",
   "metadata": {},
   "outputs": [],
   "source": [
    "def export_org_id_to_csv(api_url_1, filename=\"organization_ids.csv\"):\n",
    "    headers = {\"Accept\": \"application/fhir+json\"}\n",
    "    all_entries = []\n",
    "\n",
    "    while api_url_1:\n",
    "        response = requests.get(api_url_1, headers=headers)\n",
    "        \n",
    "        if response.status_code == 200:\n",
    "            data = response.json()\n",
    "            \n",
    "            # Collect all entries\n",
    "            all_entries.extend(data.get('entry', []))\n",
    "            \n",
    "            # Check for the next page\n",
    "            api_url_1 = None\n",
    "            for link in data.get('link', []):\n",
    "                if link.get('relation') == 'next':\n",
    "                    api_url_1 = link.get('url')\n",
    "                    break\n",
    "\n",
    "        else:\n",
    "            print(f\"Failed to retrieve data: {response.status_code}\")\n",
    "            break\n",
    "\n",
    "    # Export to CSV\n",
    "    with open(filename, mode='w', newline='', encoding='utf-8') as file:\n",
    "        writer = csv.writer(file)\n",
    "        \n",
    "        # Write header row\n",
    "        writer.writerow([\"id\", \"name\", \"identifiers\"])\n",
    "        \n",
    "        # Write data rows\n",
    "        for entry in all_entries:\n",
    "            organization = entry.get('resource', {})\n",
    "            org_id = organization.get('id', '')\n",
    "            org_name = organization.get('name', '')\n",
    "            \n",
    "            # Extract all identifiers\n",
    "            identifiers = organization.get('identifier', [])\n",
    "            identifier_values = [identifier.get('value', '') for identifier in identifiers]\n",
    "            \n",
    "            # Join all identifier values into a single string, separated by commas\n",
    "            identifier_str = \", \".join(identifier_values)\n",
    "            \n",
    "            writer.writerow([org_id, org_name, identifier_str])\n",
    "\n",
    "    print(f\"Data has been exported to {filename}\")\n"
   ]
  },
  {
   "cell_type": "code",
   "execution_count": 28,
   "id": "9f4636e0",
   "metadata": {},
   "outputs": [
    {
     "name": "stdout",
     "output_type": "stream",
     "text": [
      "Data has been exported to organization_ids.csv\n"
     ]
    }
   ],
   "source": [
    "# API URL\n",
    "api_url_1 = \"https://cmsmanapi.anthem.com/fhir/cms_mandate/mcd/Organization?name=Cottage%20Hospital\"\n",
    "export_org_id_to_csv(api_url_1)"
   ]
  },
  {
   "cell_type": "markdown",
   "id": "ffd949e1",
   "metadata": {},
   "source": [
    "- In this example, calling thefunction `export_org_id_to_csv` will find any JSON entries with a name of \"Cottage Hospital\" and export the following fields into a CSV:\n",
    "    - `id`: This is the 6-digit ID for the organization\n",
    "    - `name`: This is the name of the organization\n",
    "    - `identifiers`: These are two values, separated by a comma, indicating the associated Provider Number and NPI for the organization.\n",
    "- The results for Cottage Hospital are printed below"
   ]
  },
  {
   "cell_type": "code",
   "execution_count": 29,
   "id": "aad80ab7",
   "metadata": {},
   "outputs": [
    {
     "name": "stdout",
     "output_type": "stream",
     "text": [
      "       id              name                                   identifiers\n",
      "0  484295  Cottage Hospital  C9B74B2A0BDF9614E785B0FEF7D68F3D, 1528162799\n"
     ]
    }
   ],
   "source": [
    "df = pd.read_csv(\"organization_ids.csv\")\n",
    "print(df)"
   ]
  },
  {
   "cell_type": "markdown",
   "id": "4a6b8665",
   "metadata": {},
   "source": [
    "### Step 3: Find Associated Networks based on the Organization's ID\n",
    "- The function `fetch_all_data` accepts one argument:\n",
    "  - `api_url_2`: This is the url used to make the second API request to get associated networks.\n",
    "      - Example value for `api_url_2`: \"https://cmsmanapi.anthem.com/fhir/cms_mandate/mcd/PractitionerRole?organization=Organization/484295\"\n",
    "      - `api_url_2` is based on the Organization ID taken from the `export_org_id_to_csv` function's output"
   ]
  },
  {
   "cell_type": "code",
   "execution_count": 30,
   "id": "d1f318e1",
   "metadata": {},
   "outputs": [],
   "source": [
    "# Function to fetch all paginated data from the API\n",
    "def fetch_all_data(api_url_2):\n",
    "    all_data = []\n",
    "    while api_url_2:\n",
    "        response = requests.get(api_url_2)\n",
    "        if response.status_code == 200:\n",
    "            data = response.json()\n",
    "            if 'entry' in data:\n",
    "                all_data.extend(data['entry'])\n",
    "            # Get the next page link from the 'link' section\n",
    "            api_url_2 = None  # Default to None, meaning no more pages\n",
    "            for link in data.get('link', []):\n",
    "                if link['relation'] == 'next':\n",
    "                    api_url_2 = link['url']\n",
    "                    break\n",
    "        else:\n",
    "            raise Exception(f\"Failed to fetch data. Status code: {response.status_code}\")\n",
    "    return all_data"
   ]
  },
  {
   "cell_type": "markdown",
   "id": "58400901",
   "metadata": {},
   "source": [
    "- The function `extract_networks` accepts one argument:\n",
    "  - `data`: This is the the data we collected from the initial GET request in the `fetch_all_data` function\n",
    "- The function iterates through each JSON entry found from api_url_2 and returns the Practitioner Role ID and Network for each entry"
   ]
  },
  {
   "cell_type": "code",
   "execution_count": 31,
   "id": "2b7cd0ee",
   "metadata": {},
   "outputs": [],
   "source": [
    "# Function to extract associated networks from the data\n",
    "def extract_networks(data):\n",
    "    networks = []\n",
    "    for entry in data:\n",
    "        practitioner_role = entry['resource']\n",
    "        for ext in practitioner_role.get('extension', []):\n",
    "            if ext['url'] == \"http://hl7.org/fhir/us/davinci-pdex-plan-net/StructureDefinition/network-reference\":\n",
    "                value_reference = ext.get('valueReference', {})\n",
    "                networks.append({\n",
    "                    'practitionerRole': practitioner_role['id'],\n",
    "                    'network': value_reference.get('display', value_reference.get('reference', 'Unknown'))\n",
    "                })\n",
    "    return networks"
   ]
  },
  {
   "cell_type": "code",
   "execution_count": 32,
   "id": "72ee22ca",
   "metadata": {},
   "outputs": [],
   "source": [
    "api_url_2 = \"https://cmsmanapi.anthem.com/fhir/cms_mandate/mcd/PractitionerRole?organization=Organization/484295\""
   ]
  },
  {
   "cell_type": "markdown",
   "id": "952f28e5",
   "metadata": {},
   "source": [
    "### Step 4: Write to CSV\n",
    "- Using `fetch_all_data` and `extract_networks`, we now have enough information to write Cottage Hospital's associated networks to a csv file:"
   ]
  },
  {
   "cell_type": "code",
   "execution_count": 33,
   "id": "917f9d9d",
   "metadata": {},
   "outputs": [
    {
     "name": "stdout",
     "output_type": "stream",
     "text": [
      "Associated networks have been saved to 'associated_networks.csv'\n"
     ]
    }
   ],
   "source": [
    "# Fetch all data from the API\n",
    "try:\n",
    "    data = fetch_all_data(api_url_2)\n",
    "    \n",
    "    # Extract associated networks\n",
    "    networks = extract_networks(data)\n",
    "    \n",
    "    # Export the networks to a CSV file\n",
    "    with open('associated_networks.csv', 'w', newline='') as csvfile:\n",
    "        fieldnames = ['practitionerRole', 'network']\n",
    "        writer = csv.DictWriter(csvfile, fieldnames=fieldnames)\n",
    "        \n",
    "        writer.writeheader()\n",
    "        for network in networks:\n",
    "            writer.writerow(network)\n",
    "    \n",
    "    print(f\"Associated networks have been saved to 'associated_networks.csv'\")\n",
    "except Exception as e:\n",
    "    print(e)"
   ]
  },
  {
   "cell_type": "markdown",
   "id": "207c20d6",
   "metadata": {},
   "source": [
    "- We now have the Practitioner Role ID and associated Network for Cottage Hospital"
   ]
  },
  {
   "cell_type": "code",
   "execution_count": 34,
   "id": "0aa1352f",
   "metadata": {},
   "outputs": [
    {
     "name": "stdout",
     "output_type": "stream",
     "text": [
      "    practitionerRole                                 network\n",
      "0            5806905                      Pathway X Enhanced\n",
      "1            5806905                            NH Pathway X\n",
      "2            6412153                 Access Blue New England\n",
      "3            6412153                   MATTHEW THORNTON BLUE\n",
      "4            6412153                             BLUE CHOICE\n",
      "5            6412153                     NH Blue Choice - OA\n",
      "6            6412153  PREF BLUE PPO/BLUECARD PPO/BLUE DIRECT\n",
      "7            6412153                 BLUE CHOICE NEW ENGLAND\n",
      "8            6412153                         Blue Choice POS\n",
      "9            6412153                      Pathway X Enhanced\n",
      "10           6412153             HMO Blue New England Choice\n",
      "11           6412153                            NH Pathway X\n",
      "12           5441020                 Access Blue New England\n",
      "13           5441020                 BLUE CHOICE NEW ENGLAND\n",
      "14           5441020             HMO Blue New England Choice\n",
      "15            826291                      Pathway X Enhanced\n",
      "16            826291                            NH Pathway X\n",
      "17            169954    NH Anthem MediBlue Select Plus (HMO)\n",
      "18            169954   NH Anthem MediBlue PPO Select Network\n",
      "19           3597657                      Pathway X Enhanced\n",
      "20           3597657                            NH Pathway X\n",
      "21          11367280                      Pathway X Enhanced\n",
      "22          11367280                            NH Pathway X\n",
      "23          10973971   TRADITIONAL INDEMNITY/INDIVIDUAL BLUE\n",
      "24          10973971                 Access Blue New England\n",
      "25          10973971                   MATTHEW THORNTON BLUE\n",
      "26          10973971                             BLUE CHOICE\n",
      "27          10973971                     NH Blue Choice - OA\n",
      "28          10973971  PREF BLUE PPO/BLUECARD PPO/BLUE DIRECT\n",
      "29          10973971                 BLUE CHOICE NEW ENGLAND\n",
      "30          10973971                         Blue Choice POS\n",
      "31          10973971                      Pathway X Enhanced\n",
      "32          10973971             HMO Blue New England Choice\n",
      "33          10973971                            NH Pathway X\n",
      "34          10973971                   Medicare IND - NH HMO\n",
      "35          10973971                   Medicare IND - NH PPO\n"
     ]
    }
   ],
   "source": [
    "df = pd.read_csv(\"associated_networks.csv\")\n",
    "print(df)"
   ]
  },
  {
   "cell_type": "markdown",
   "id": "74a811c3",
   "metadata": {},
   "source": [
    "- Typically, I will remove the duplicate networks in Excel, but this is also possible in pandas as shown below."
   ]
  },
  {
   "cell_type": "code",
   "execution_count": 35,
   "id": "75d80fc7",
   "metadata": {},
   "outputs": [
    {
     "name": "stdout",
     "output_type": "stream",
     "text": [
      "    practitionerRole                                 network\n",
      "0            5806905                      Pathway X Enhanced\n",
      "1            5806905                            NH Pathway X\n",
      "2            6412153                 Access Blue New England\n",
      "3            6412153                   MATTHEW THORNTON BLUE\n",
      "4            6412153                             BLUE CHOICE\n",
      "5            6412153                     NH Blue Choice - OA\n",
      "6            6412153  PREF BLUE PPO/BLUECARD PPO/BLUE DIRECT\n",
      "7            6412153                 BLUE CHOICE NEW ENGLAND\n",
      "8            6412153                         Blue Choice POS\n",
      "10           6412153             HMO Blue New England Choice\n",
      "17            169954    NH Anthem MediBlue Select Plus (HMO)\n",
      "18            169954   NH Anthem MediBlue PPO Select Network\n",
      "23          10973971   TRADITIONAL INDEMNITY/INDIVIDUAL BLUE\n",
      "34          10973971                   Medicare IND - NH HMO\n",
      "35          10973971                   Medicare IND - NH PPO\n"
     ]
    }
   ],
   "source": [
    "df_unique = df.drop_duplicates(subset=['network'])\n",
    "print(df_unique)"
   ]
  }
 ],
 "metadata": {
  "kernelspec": {
   "display_name": "Python 3",
   "language": "python",
   "name": "python3"
  },
  "language_info": {
   "codemirror_mode": {
    "name": "ipython",
    "version": 3
   },
   "file_extension": ".py",
   "mimetype": "text/x-python",
   "name": "python",
   "nbconvert_exporter": "python",
   "pygments_lexer": "ipython3",
   "version": "3.8.8"
  }
 },
 "nbformat": 4,
 "nbformat_minor": 5
}
